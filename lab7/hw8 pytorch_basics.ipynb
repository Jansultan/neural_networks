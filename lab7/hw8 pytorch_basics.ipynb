{
 "cells": [
  {
   "cell_type": "markdown",
   "metadata": {
    "colab_type": "text",
    "id": "wscvRoo_Y2bp"
   },
   "source": [
    "#### Lab 8\n",
    "#### На основе ШАД Яндекс\n"
   ]
  },
  {
   "cell_type": "code",
   "execution_count": 94,
   "metadata": {
    "colab": {},
    "colab_type": "code",
    "id": "Lg09ve27Y2br"
   },
   "outputs": [],
   "source": [
    "from matplotlib import pyplot as plt\n",
    "import numpy as np\n",
    "from sklearn import datasets\n",
    "from sklearn.model_selection import train_test_split\n",
    "import torch"
   ]
  },
  {
   "cell_type": "markdown",
   "metadata": {
    "colab_type": "text",
    "id": "Gbpu-GrgY2bv"
   },
   "source": [
    "### 1. Нахождение сложной производной"
   ]
  },
  {
   "cell_type": "markdown",
   "metadata": {
    "colab_type": "text",
    "id": "GZKVcvtTY2bw"
   },
   "source": [
    "Найдите производную по x от функции \n",
    "$$\\sin\\left(\\tan(x)\\frac{x^2}{y} + \\ln(e^{-x^2 + 3}+x^3y)\\right)\\tan(x^2e^{x^9})$$\n",
    "\n",
    "При этом надо пользоваться встроенным в PyTorch autograd. Численное вычисление производной может не дать нужный результат."
   ]
  },
  {
   "cell_type": "code",
   "execution_count": 102,
   "metadata": {
    "colab": {},
    "colab_type": "code",
    "id": "ihvUiIDQY2bx"
   },
   "outputs": [
    {
     "data": {
      "text/plain": [
       "0.3392165005207062"
      ]
     },
     "execution_count": 102,
     "metadata": {},
     "output_type": "execute_result"
    }
   ],
   "source": [
    "def find_x_derivative(x, y):\n",
    "    # YOUR CODE HERE\n",
    "    dtype = torch.float\n",
    "    x = torch.tensor(data=x, dtype=dtype, requires_grad=True)\n",
    "    y = torch.tensor(data=y, dtype=dtype, requires_grad=True)\n",
    "    derivative = torch.sin(torch.tan(x)*torch.pow(x,2)/y + torch.log(torch.exp(torch.pow(-x,2) + 3) + torch.pow(x,3)*y)) * torch.tan(torch.pow(x,2)*torch.exp(torch.pow(x,9)))\n",
    "    return derivative.item()\n",
    "\n",
    "find_x_derivative(1.5, 2)"
   ]
  },
  {
   "cell_type": "markdown",
   "metadata": {
    "colab_type": "text",
    "collapsed": true,
    "id": "mNbn5UzGY2b0"
   },
   "source": [
    "# 2. Нахождение косинусной близости\n",
    "\n",
    "Вам даны две матрицы A и B. Необходимо посчитать косинусную близость между строчками матрицы A и столбцами матрицы B. Ответ - матрица чисел, где номер строки - номер строки из матрицы А, а номер столбца - номер столбца из В, от которых бралась косинусная близость.\n",
    "\n",
    "Напомним, что косинусная близость двух векторов - косинус угла между ними. В n-мерном пространстве косинус угла между веткорами удобнее всего через скалярное произведение:\n",
    "$$\\cos(angle(x, y)) = \\frac{x \\cdot y}{\\left\\|x\\right\\| \\left\\|y\\right\\|}$$\n",
    "\n",
    "(Наша операция очень похожа на умножение матриц)"
   ]
  },
  {
   "cell_type": "code",
   "execution_count": 96,
   "metadata": {
    "colab": {},
    "colab_type": "code",
    "id": "9r2uiysQY2b1"
   },
   "outputs": [
    {
     "data": {
      "text/plain": [
       "tensor([[1.3333, 1.3148],\n",
       "        [1.0142, 0.9518]])"
      ]
     },
     "execution_count": 96,
     "metadata": {},
     "output_type": "execute_result"
    }
   ],
   "source": [
    "def get_cos_sim(A, B):\n",
    "    \"\"\"\n",
    "        A, B - torch float tensors\n",
    "    \"\"\"\n",
    "    # YOUR CODE HERE\n",
    "    a_to_b = torch.mm(A, B)\n",
    "    a_norm = torch.sqrt(torch.mm(A,A))\n",
    "    b_norm = torch.sqrt(torch.mm(B,B))\n",
    "    cos = a_to_b / (a_norm * b_norm)\n",
    "    return cos\n",
    "\n",
    "dtype = torch.float\n",
    "a = torch.tensor([[1, 2], [4, 6]], dtype=dtype)\n",
    "b = torch.tensor([[0, 2], [8, 10]], dtype=dtype)\n",
    "\n",
    "get_cos_sim(a, b)"
   ]
  },
  {
   "cell_type": "markdown",
   "metadata": {
    "colab_type": "text",
    "id": "BR_2JtdtY2b4"
   },
   "source": [
    "# 3. Линейная регрессия\n",
    "\n",
    "Раньше мы самостоятельно считали производные, чтобы находить веса линейной регрессии с помощью градиентного спуска. Теперь нам нужно использовать для этого PyTorch и его autograd. \n",
    "\n",
    "**Важно**: на самом деле .backward не обновляет содержимое матриц с производными (some_tensor.grad), а прибавляет к ним только что посчитаные значения проивзодных. Это значит, что вызвав .backward дважды, вы получите удвоенную производную. Так как мы обновляем веса в цикле и много раз вызываем .backward, то очень быстро мы получим мусор в some_tensor.grad, если не будем его каждый раз обнулять. Таким образом, в конц итериации после использования производных обнулите значения в матрице производных для всех нужных Вам переменных. Делается это вот так \n",
    "> some\\_tensor.grad.data.zero_()"
   ]
  },
  {
   "cell_type": "code",
   "execution_count": 97,
   "metadata": {
    "colab": {},
    "colab_type": "code",
    "id": "XbuGEdgBY2b5"
   },
   "outputs": [],
   "source": [
    "class LinearRegression:\n",
    "    def get_loss(self, preds, y):\n",
    "        \"\"\"\n",
    "            @param preds: предсказания модели\n",
    "            @param y: истиные значения\n",
    "            @return mse: значение MSE на переданных данных\n",
    "        \"\"\"\n",
    "        # возьмите средний квадрат ошибки по всем выходным переменным\n",
    "        # то есть сумму квадратов ошибки надо поделить на количество_элементов * количество_таргетов\n",
    "        mse = torch.mean((preds - y)**2)\n",
    "        return mse\n",
    "    \n",
    "    def init_weights(self, input_size, output_size):\n",
    "        \"\"\"\n",
    "            Инициализирует параметры модели\n",
    "            W - матрица размерности (input_size, output_size)\n",
    "            инициализируется рандомными числами из\n",
    "            uniform распределения (torch.rand())\n",
    "            b - вектор размерности (1, output_size)\n",
    "            инициализируется нулями\n",
    "        \"\"\"\n",
    "        torch.manual_seed(0) #необходимо для воспроизводимости результатов\n",
    "        self.W = torch.rand(input_size, output_size,  requires_grad=True)\n",
    "        self.b = torch.zeros(1, output_size, requires_grad=True)\n",
    "\n",
    "    def fit(self, X, y, num_epochs=1000, lr=0.001):\n",
    "        \"\"\"\n",
    "            Обучение модели линейной регрессии методом градиентного спуска\n",
    "            @param X: размерности (num_samples, input_shape)\n",
    "            @param y: размерности (num_samples, output_shape)\n",
    "            @param num_epochs: количество итераций градиентного спуска\n",
    "            @param lr: шаг градиентного спуска\n",
    "            @return metrics: вектор значений MSE на каждом шаге градиентного\n",
    "            спуска.\n",
    "        \"\"\"\n",
    "        self.init_weights(X.shape[1], y.shape[1])\n",
    "        metrics = []\n",
    "        for _ in range(num_epochs):\n",
    "            preds = self.predict(X)\n",
    "            # сделайте вычисления градиентов c помощью Pytorch и обновите веса\n",
    "            # осторожнее, оберните вычитание градиента в \n",
    "#                 with torch.no_grad():\n",
    "#                     #some code\n",
    "            # иначе во время прибавления градиента к переменной создастся очень много нод в дереве операций\n",
    "            # и ваши модели в будущем будут падать от нехватки памяти\n",
    "            preds = self.predict(X)\n",
    "            loss = self.get_loss(preds, y)\n",
    "            with torch.no_grad():\n",
    "                loss.backward()\n",
    "                self.W -= lr * self.W.grad\n",
    "                self.b -= lr * self.b.grad\n",
    "            self.W.grad.zero_()\n",
    "            self.b.grad.zero_()\n",
    "            metrics.append(self.get_loss(preds, y).data)\n",
    "        return metrics\n",
    "\n",
    "    def predict(self, X):\n",
    "        \"\"\"\n",
    "            Думаю, тут все понятно. Сделайте свои предсказания :)\n",
    "        \"\"\"\n",
    "        predict_val = torch.mm(X, self.W) + self.b\n",
    "        return predict_val"
   ]
  },
  {
   "cell_type": "markdown",
   "metadata": {
    "colab_type": "text",
    "id": "QQ8GJjFKaY6r"
   },
   "source": [
    "1. Сгенерируйте данные с помощью make_regression с параметрами n_targets=3, n_features=2, noise=10, random_state=42. \n",
    "2. Обучите модель линейной регрессии, оставив в fit параметры num_epochs и lr по умолчанию (обратите внимание, что перед обучением нужно привести данные к типу, использующимся в torch) \n",
    "2. Посчитайте среднее значение метрики MSE по всем итерациям цикла в fit (массив из значений MSE на каждой итерации возвращается из метода fit). Ответом, который необходимо сдать в систему, будет число, округленное до 3х знаков после запятой."
   ]
  },
  {
   "cell_type": "code",
   "execution_count": 98,
   "metadata": {
    "colab": {},
    "colab_type": "code",
    "id": "zOVkSg_0Y2b8"
   },
   "outputs": [],
   "source": [
    "X, Y = datasets.make_regression(n_targets=3, n_features=2, noise=10, random_state=42)\n",
    "dtype = torch.float\n",
    "X = torch.tensor(X, dtype=dtype)\n",
    "Y = torch.tensor(Y, dtype=dtype)\n",
    "model = LinearRegression()\n",
    "mse = model.fit(X, Y)"
   ]
  },
  {
   "cell_type": "code",
   "execution_count": 99,
   "metadata": {
    "colab": {},
    "colab_type": "code",
    "id": "oMgiJA_Va6g_"
   },
   "outputs": [
    {
     "name": "stdout",
     "output_type": "stream",
     "text": [
      "4256.561\n"
     ]
    }
   ],
   "source": [
    "print(np.mean(mse))"
   ]
  },
  {
   "cell_type": "markdown",
   "metadata": {
    "colab_type": "text",
    "id": "iJVuCWOxbACZ"
   },
   "source": [
    "Здесь предлагаем протестировать метод predict удобным вам образом."
   ]
  },
  {
   "cell_type": "code",
   "execution_count": 100,
   "metadata": {
    "colab": {},
    "colab_type": "code",
    "id": "XF5Rw27ba-mj"
   },
   "outputs": [
    {
     "data": {
      "text/plain": [
       "<matplotlib.collections.PathCollection at 0x201ae8a6b48>"
      ]
     },
     "execution_count": 100,
     "metadata": {},
     "output_type": "execute_result"
    },
    {
     "data": {
      "image/png": "[encoded data removed]",
      "text/plain": [
       "<Figure size 432x288 with 1 Axes>"
      ]
     },
     "metadata": {
      "needs_background": "light"
     },
     "output_type": "display_data"
    }
   ],
   "source": [
    "#YOUR CODE\n",
    "plt.scatter(X[:,0],Y[:,0], color='black', marker='o')"
   ]
  },
  {
   "cell_type": "code",
   "execution_count": 101,
   "metadata": {},
   "outputs": [
    {
     "data": {
      "text/plain": [
       "<matplotlib.collections.PathCollection at 0x201ae972ac8>"
      ]
     },
     "execution_count": 101,
     "metadata": {},
     "output_type": "execute_result"
    },
    {
     "data": {
      "image/png": "[encoded data removed]",
      "text/plain": [
       "<Figure size 432x288 with 1 Axes>"
      ]
     },
     "metadata": {
      "needs_background": "light"
     },
     "output_type": "display_data"
    }
   ],
   "source": [
    "predected=model.predict(X).detach()\n",
    "expected = X[:,0]\n",
    "plt.scatter(X[:,0],Y[:,0], color='black', marker='o')\n",
    "plt.scatter(expected,predected[:,0], color='red')"
   ]
  },
  {
   "cell_type": "code",
   "execution_count": null,
   "metadata": {},
   "outputs": [],
   "source": []
  }
 ],
 "metadata": {
  "colab": {
   "collapsed_sections": [],
   "name": "[homework]pytorch_basics.ipynb",
   "provenance": []
  },
  "hide_input": false,
  "kernelspec": {
   "display_name": "Python 3",
   "language": "python",
   "name": "python3"
  },
  "language_info": {
   "codemirror_mode": {
    "name": "ipython",
    "version": 3
   },
   "file_extension": ".py",
   "mimetype": "text/x-python",
   "name": "python",
   "nbconvert_exporter": "python",
   "pygments_lexer": "ipython3",
   "version": "3.7.4"
  },
  "varInspector": {
   "cols": {
    "lenName": 16,
    "lenType": 16,
    "lenVar": 40
   },
   "kernels_config": {
    "python": {
     "delete_cmd_postfix": "",
     "delete_cmd_prefix": "del ",
     "library": "var_list.py",
     "varRefreshCmd": "print(var_dic_list())"
    },
    "r": {
     "delete_cmd_postfix": ") ",
     "delete_cmd_prefix": "rm(",
     "library": "var_list.r",
     "varRefreshCmd": "cat(var_dic_list()) "
    }
   },
   "types_to_exclude": [
    "module",
    "function",
    "builtin_function_or_method",
    "instance",
    "_Feature"
   ],
   "window_display": false
  }
 },
 "nbformat": 4,
 "nbformat_minor": 1
}
