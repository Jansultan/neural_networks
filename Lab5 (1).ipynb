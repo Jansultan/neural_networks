{
 "cells": [
  {
   "cell_type": "markdown",
   "metadata": {
    "colab_type": "text",
    "id": "2-LKSTOBciPO"
   },
   "source": [
    "### Laboratory work 5: Fuzzy Numbers\n",
    "###### The task of the lab is to develop the fuzzy operations:\n",
    "\n",
    "######    Division in the method truediv\n",
    "######    Summation in the method __add"
   ]
  },
  {
   "cell_type": "code",
   "execution_count": 1,
   "metadata": {
    "colab": {},
    "colab_type": "code",
    "id": "LZUfuApMcLPd"
   },
   "outputs": [],
   "source": [
    "import numpy as np\n",
    "import matplotlib.pyplot as plt"
   ]
  },
  {
   "cell_type": "markdown",
   "metadata": {},
   "source": [
    "![title](1.png)"
   ]
  },
  {
   "cell_type": "code",
   "execution_count": 6,
   "metadata": {
    "colab": {
     "base_uri": "https://localhost:8080/",
     "height": 50
    },
    "colab_type": "code",
    "id": "v8F6CuBUcDnl",
    "outputId": "7b9f687c-64c9-4754-82f2-8708996ce6fe"
   },
   "outputs": [
    {
     "name": "stdout",
     "output_type": "stream",
     "text": [
      "5.1 ,  1.5\n",
      "4.3 ,  2.0\n",
      "Maximum __add__:  9.399999999999999 \n",
      "\n",
      "Minimum __add__:  3.5 \n",
      "\n",
      "(9.399999999999999, 3.5)\n",
      "Maximum __truediv__:  1.720496894409938 \n",
      "\n",
      "Minimum __truediv__:  1.1490683229813667 \n",
      "\n",
      "(1.720496894409938, 1.1490683229813667)\n"
     ]
    }
   ],
   "source": [
    "class FuzzyValue():\n",
    "    def __init__(self,val,width):\n",
    "        self.val = float(val)\n",
    "        self.width = float(width)\n",
    "        print(float(val), \", \", float(width))\n",
    "\n",
    "    def __call__(self,x):\n",
    "        buff = ((x-self.val)/self.width)*((x-self.val)/self.width)\n",
    "        return max(0,1-buff)  \n",
    "\n",
    "    def __truediv__(self, o):\n",
    "        x1 = self.val + self.width\n",
    "        x2 = self.val - self.width\n",
    "        y1 = np.power((o.val + o.width), -1) # 1/o.val\n",
    "        y2 = np.power((o.val - o.width), -1) # 1/o.width\n",
    "#       Division = A/B\n",
    "\n",
    "        Division_max=max(x1*y1, x1*y2, x2*y1, x2*y2)\n",
    "        Division_min=min(x1*y1, x1*y2, x2*y1, x2*y2)\n",
    "        \n",
    "        return_max=(Division_max - Division_min)/2 + Division_min\n",
    "        return_min=(Division_max - Division_min)/2\n",
    "        print('Maximum __truediv__: ', return_max, '\\n')\n",
    "        print('Minimum __truediv__: ', return_min, '\\n')\n",
    "        return return_max, return_min\n",
    "\n",
    "    def __add__(self, o): \n",
    "        x1 = self.val\n",
    "        x2 = self.width\n",
    "        y1 = o.val\n",
    "        y2 = o.width\n",
    "#       Addition=A+B\n",
    "\n",
    "        Addition_max=x1+x2+y1+y2\n",
    "        Addition_min=x1+y1-x2-y2\n",
    "        \n",
    "        return_max=(Addition_max - Addition_min)/2 + Addition_min\n",
    "        return_min=(Addition_max - Addition_min)/2\n",
    "        print('Maximum __add__: ', return_max, '\\n')\n",
    "        print('Minimum __add__: ', return_min, '\\n')\n",
    "        return return_max, return_min\n",
    "\n",
    "a = FuzzyValue(5.1,1.5)\n",
    "b = FuzzyValue(4.3,2)\n",
    "print(a+b)\n",
    "print(a/b)"
   ]
  },
  {
   "cell_type": "code",
   "execution_count": 22,
   "metadata": {
    "colab": {
     "base_uri": "https://localhost:8080/",
     "height": 282
    },
    "colab_type": "code",
    "id": "dAb_qAfQcSsd",
    "outputId": "ec0c3a33-3128-4487-93d9-b2dd3c9be11d"
   },
   "outputs": [
    {
     "data": {
      "text/plain": [
       "[<matplotlib.lines.Line2D at 0x1be839fe6c8>]"
      ]
     },
     "execution_count": 22,
     "metadata": {},
     "output_type": "execute_result"
    },
    {
     "data": {
      "image/png": "[encoded data removed]",
      "text/plain": [
       "<Figure size 432x288 with 1 Axes>"
      ]
     },
     "metadata": {
      "needs_background": "light"
     },
     "output_type": "display_data"
    }
   ],
   "source": [
    "xs = np.linspace(-5,14,num=1000)\n",
    "# a = FuzzyValue(0,3)\n",
    "y = [a(x) for x in xs]\n",
    "plt.plot(xs,y)"
   ]
  },
  {
   "cell_type": "code",
   "execution_count": 23,
   "metadata": {
    "colab": {
     "base_uri": "https://localhost:8080/",
     "height": 1000
    },
    "colab_type": "code",
    "id": "JVt8GdQkvPtM",
    "outputId": "42c71141-2074-4942-97ba-3b8a598f90dc"
   },
   "outputs": [
    {
     "name": "stdout",
     "output_type": "stream",
     "text": [
      "Maximum __truediv__:  1.720496894409938 \n",
      "\n",
      "Minimum __truediv__:  1.1490683229813667 \n",
      "\n",
      "1.720496894409938 ,  1.1490683229813667\n"
     ]
    },
    {
     "data": {
      "text/plain": [
       "[<matplotlib.lines.Line2D at 0x1be83a47388>]"
      ]
     },
     "execution_count": 23,
     "metadata": {},
     "output_type": "execute_result"
    },
    {
     "data": {
      "image/png": "[encoded data removed]",
      "text/plain": [
       "<Figure size 432x288 with 1 Axes>"
      ]
     },
     "metadata": {
      "needs_background": "light"
     },
     "output_type": "display_data"
    }
   ],
   "source": [
    "division = a/b\n",
    "division_val = FuzzyValue(division[0],division[1])\n",
    "division_plt = [division_val(x) for x in xs]\n",
    "plt.plot(xs,division_plt)\n",
    "plt.plot(xs,y)"
   ]
  },
  {
   "cell_type": "code",
   "execution_count": 24,
   "metadata": {
    "colab": {},
    "colab_type": "code",
    "id": "E0QPyx0ScTVw"
   },
   "outputs": [
    {
     "name": "stdout",
     "output_type": "stream",
     "text": [
      "Maximum __add__:  9.399999999999999 \n",
      "\n",
      "Minimum __add__:  3.5 \n",
      "\n",
      "9.399999999999999 ,  3.5\n"
     ]
    },
    {
     "data": {
      "text/plain": [
       "[<matplotlib.lines.Line2D at 0x1be83ac4748>]"
      ]
     },
     "execution_count": 24,
     "metadata": {},
     "output_type": "execute_result"
    },
    {
     "data": {
      "image/png": "[encoded data removed]",
      "text/plain": [
       "<Figure size 432x288 with 1 Axes>"
      ]
     },
     "metadata": {
      "needs_background": "light"
     },
     "output_type": "display_data"
    }
   ],
   "source": [
    "add = a+b\n",
    "add_val = FuzzyValue(add[0],add[1])\n",
    "add_plt = [add_val(x) for x in xs]\n",
    "plt.plot(xs,add_plt)\n",
    "plt.plot(xs,y)"
   ]
  },
  {
   "cell_type": "code",
   "execution_count": null,
   "metadata": {},
   "outputs": [],
   "source": []
  },
  {
   "cell_type": "code",
   "execution_count": null,
   "metadata": {},
   "outputs": [],
   "source": []
  }
 ],
 "metadata": {
  "colab": {
   "name": "Lab5.ipynb",
   "provenance": []
  },
  "kernelspec": {
   "display_name": "Python 3",
   "language": "python",
   "name": "python3"
  },
  "language_info": {
   "codemirror_mode": {
    "name": "ipython",
    "version": 3
   },
   "file_extension": ".py",
   "mimetype": "text/x-python",
   "name": "python",
   "nbconvert_exporter": "python",
   "pygments_lexer": "ipython3",
   "version": "3.7.4"
  }
 },
 "nbformat": 4,
 "nbformat_minor": 1
}
