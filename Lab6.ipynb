{
 "cells": [
  {
   "cell_type": "code",
   "execution_count": 2,
   "metadata": {
    "colab": {},
    "colab_type": "code",
    "id": "twBmPWIxDeal"
   },
   "outputs": [],
   "source": [
    "import numpy as np\n",
    "import matplotlib.pyplot as plt\n",
    "from PIL import Image\n",
    "import matplotlib.animation as animation\n",
    "from IPython.display import HTML\n",
    "from skimage import draw\n",
    "%matplotlib inline\n",
    "#comment                                                                           "
   ]
  },
  {
   "cell_type": "code",
   "execution_count": 3,
   "metadata": {
    "colab": {},
    "colab_type": "code",
    "id": "UYGJsE-zDear"
   },
   "outputs": [],
   "source": [
    "def plot_images(img_list):\n",
    "    def init():\n",
    "        img.set_data(img_list[0])\n",
    "        return (img,)\n",
    "\n",
    "    def animate(i):\n",
    "        img.set_data(img_list[i])\n",
    "        return (img,)\n",
    "\n",
    "    plt.figure(figsize = (15,15))\n",
    "    fig = plt.figure()\n",
    "    ax = fig.gca()\n",
    "    img = ax.imshow(img_list[0])\n",
    "    anim = animation.FuncAnimation(fig, animate, init_func=init,\n",
    "                                 frames=len(img_list), interval=20, blit=True)\n",
    "    return anim\n"
   ]
  },
  {
   "cell_type": "code",
   "execution_count": 66,
   "metadata": {
    "colab": {},
    "colab_type": "code",
    "id": "Gc_r3VOJDeat"
   },
   "outputs": [],
   "source": [
    "class World():\n",
    "    def __init__(self,rocket,target,width=768,height=640,stop_limit=150):#limit=100\n",
    "        self.rocket = rocket\n",
    "        self.target = target\n",
    "        self.width = width\n",
    "        self.height = height\n",
    "        self.time = 0\n",
    "        self.stop_limit = stop_limit\n",
    "        self.worlds = [np.ones((width,height),dtype=np.uint8)]\n",
    "        self.distance = []\n",
    "        \n",
    "    \n",
    "    def gen_img(self,world):\n",
    "        buff = np.array((world,world,world))*255\n",
    "        return buff.reshape(self.width,self.height,3)\n",
    "    \n",
    "    def run(self):\n",
    "        print(\"Run the world\")\n",
    "\n",
    "        while True:\n",
    "            self.time = self.time + 1\n",
    "            xt,yt = self.target.move(self.time)\n",
    "            xr,yr = self.rocket.move(self.time,self.target)\n",
    "            self.distance.append(np.linalg.norm(np.array([xt,yt])-np.array([xr,yr])))\n",
    "            rt, ct = draw.circle(int(xt), int(yt), radius=10, shape=self.worlds[-1].shape)\n",
    "            self.worlds[-1][rt,ct]=0\n",
    "            rr, cr = draw.circle(int(xr), int(yr), radius=10, shape=self.worlds[-1].shape)\n",
    "            self.worlds[-1][rr,cr]=0\n",
    "            self.worlds.append(np.ones((self.width,self.height),dtype=np.uint8))\n",
    "            if self.time>self.stop_limit:\n",
    "                print(len(self.worlds))\n",
    "                print(\"Stop the world\")\n",
    "                break\n",
    "            if self.distance[-1]<10:\n",
    "                break\n",
    "        return self.worlds\n"
   ]
  },
  {
   "cell_type": "code",
   "execution_count": 67,
   "metadata": {
    "colab": {},
    "colab_type": "code",
    "id": "19PtinByDeaw"
   },
   "outputs": [],
   "source": [
    "class RectRocket():\n",
    "    def __init__(self,x0,y0,v,angle):\n",
    "        self.x = x0\n",
    "        self.y = y0\n",
    "        self.v = v\n",
    "        print(v)\n",
    "        self.angle = angle\n",
    "    \n",
    "    def move(self,time,target):\n",
    "        deltax = self.x - target.x\n",
    "        deltay = self.y - target.y\n",
    "        old_x=self.x\n",
    "        # Put your code here\n",
    "        # Calculate your angle and apply it to new (x,y) coords\n",
    "        # Steps:\n",
    "        # 1. Calculate alpha = arctan(deltax/deltay)\n",
    "        alpha = np.arctan(deltax/deltay)\n",
    "        # 2. Calcualte new_x = old_x + sin/cos(alpha)*v\n",
    "        # tan = sin/cos\n",
    "        new_x = old_x + (np.sin(alpha)/np.cos(alpha))*self.v\n",
    "        self.x = new_x\n",
    "        self.x = self.x - self.v\n",
    "        self.y = self.y - np.sign(deltay)*self.v\n",
    "        #self.x = self.x - self.v\n",
    "        #self.y = self.y - np.sign(deltay)*self.v\n",
    "        return (self.x,self.y)\n",
    "    \n",
    "class Target():\n",
    "    def __init__(self,r1,f1,r2,f2,x0,y0):\n",
    "        self.x0 = x0\n",
    "        self.y0 = y0\n",
    "        self.r1 = r1\n",
    "        self.f1 = f1\n",
    "        self.r2 = r2\n",
    "        self.f2 = f2\n",
    "        self.move(0)\n",
    "        \n",
    "    def move(self,time):\n",
    "        self.x = self.x0 + self.r1 * np.cos(time*2*np.pi*self.f1) + self.r2 * np.cos(time*2*np.pi*self.f2)\n",
    "        self.y = self.y0 + self.r1 * np.sin(time*2*np.pi*self.f1) + self.r2 * np.sin(time*2*np.pi*self.f2)\n",
    "        return (self.x,self.y)"
   ]
  },
  {
   "cell_type": "code",
   "execution_count": 68,
   "metadata": {
    "colab": {
     "base_uri": "https://localhost:8080/",
     "height": 594
    },
    "colab_type": "code",
    "id": "N6Fd5dmhDeay",
    "outputId": "f4453f5f-3923-4335-c12c-ea3ebf6da3bf"
   },
   "outputs": [
    {
     "name": "stdout",
     "output_type": "stream",
     "text": [
      "2\n",
      "Run the world\n"
     ]
    },
    {
     "data": {
      "text/html": [
       "<video width=\"432\" height=\"288\" controls autoplay loop>\n",
       "  <source type=\"video/mp4\" src=\"data:video/mp4;base64,AAAAHGZ0eXBNNFYgAAACAGlzb21pc28yYXZjMQAAAAhmcmVlAAAVQG1kYXQAAAKuBgX//6rcRem9\n",
       "5tlIt5Ys2CDZI+7veDI2NCAtIGNvcmUgMTU4IHIyOTg0IDM3NTlmY2IgLSBILjI2NC9NUEVHLTQg\n",
       "QVZDIGNvZGVjIC0gQ29weWxlZnQgMjAwMy0yMDE5IC0gaHR0cDovL3d3dy52aWRlb2xhbi5vcmcv\n",
       "eDI2NC5odG1sIC0gb3B0aW9uczogY2FiYWM9MSByZWY9MyBkZWJsb2NrPTE6MDowIGFuYWx5c2U9\n",
       "MHgzOjB4MTEzIG1lPWhleCBzdWJtZT03IHBzeT0xIHBzeV9yZD0xLjAwOjAuMDAgbWl4ZWRfcmVm\n",
       "PTEgbWVfcmFuZ2U9MTYgY2hyb21hX21lPTEgdHJlbGxpcz0xIDh4OGRjdD0xIGNxbT0wIGRlYWR6\n",
       "b25lPTIxLDExIGZhc3RfcHNraXA9MSBjaHJvbWFfcXBfb2Zmc2V0PS0yIHRocmVhZHM9OSBsb29r\n",
       "YWhlYWRfdGhyZWFkcz0xIHNsaWNlZF90aHJlYWRzPTAgbnI9MCBkZWNpbWF0ZT0xIGludGVybGFj\n",
       "ZWQ9MCBibHVyYXlfY29tcGF0PTAgY29uc3RyYWluZWRfaW50cmE9MCBiZnJhbWVzPTMgYl9weXJh\n",
       "bWlkPTIgYl9hZGFwdD0xIGJfYmlhcz0wIGRpcmVjdD0xIHdlaWdodGI9MSBvcGVuX2dvcD0wIHdl\n",
       "aWdodHA9MiBrZXlpbnQ9MjUwIGtleWludF9taW49MjUgc2NlbmVjdXQ9NDAgaW50cmFfcmVmcmVz\n",
       "aD0wIHJjX2xvb2thaGVhZD00MCByYz1jcmYgbWJ0cmVlPTEgY3JmPTIzLjAgcWNvbXA9MC42MCBx\n",
       "cG1pbj0wIHFwbWF4PTY5IHFwc3RlcD00IGlwX3JhdGlvPTEuNDAgYXE9MToxLjAwAIAAAAfIZYiE\n",
       "ACv//vZzfAprRzOVLgV292aj5dCS5fsQYPrQAAADAAGq07IMpUQ/BMMhUCn7OF0KteFPJHrFvRol\n",
       "C3+DhSuFalUgAAaQ+/6GbAR9MSZueWHbOQkcYy+Yrr+fompG0Z/6nLpLuRIEWox3/EoCPvTgRSGY\n",
       "1ZX1wu9yny1s/6DSc/Jspl1lKHeiHGfz77Gu8qScjbwXX9qJ5ZtRwtpzOUDfpLuXs2fypym6BKO8\n",
       "yR0qcCMPI3OicN/07cSbc3L9ybvAVZUj8gbA3kkN0AYpghdxlrqowkJkUEaTRiIBDj9sDtDZ66DJ\n",
       "LPMfoQmNgl1ph2xk80D9pDy/DloTAv1jHiuXaOPSzT3fiNnzAgXGjO84c5EG5qq/KENQav9f/sUr\n",
       "8ZBOaO2t4LccWdB/aFbhcKJnTUy/CsYafjTlu3bFF1s1K9Or3/p+P7ULZR/gSpPXYSDSCaDHemy+\n",
       "7POTE4nO0vpYbwZIr7qY3k73x2SAE/aT+7zI+7N69oKn2CxeIPd2XYbG+SFdQvCYR8DB1hMNkZGE\n",
       "5pvvPeasOwmONA2DLo40/44gY1By9UIe0HEz0Qm9hfILiBw3EWvANoXLjP519+yTXXRn3oFL/ff9\n",
       "hvwXYoov3GgKXP3DNZf5BiBBbEaMExkfE2gU1KdbRx1QBwMqhXa9/fVEn1iwduRArmXOkZP++sf3\n",
       "cU0DkBqT641vGxHbLStoeY8yBHmcYyvsl2v0pRliNdhOoXaKEMGMNZ6upOQa/7Orryj0vkVUzcZM\n",
       "Q4pDZLYDH3Axx6zp/+3hCwH0mVY2HMbU4TYoGciSpO8K9AOq8DAX3Pj6gXQGny9dhnKG279/E/+h\n",
       "qorf9yp5/Ya3Gn7SXShvTBUWZYCUKHzP84aNE5rl0bcNrCnAhsSvYD1bUxKPCVDGMiuUOeYLQH9c\n",
       "dHEMQtSQu15bYNHuIneJ1DH0kNSZ+df9aEfhr+Ckm1XgrlEvZd63wvUESS7RBbJ7oLnA7IzDRdS+\n",
       "9pjZfRbw0R58LWUXnonc9aTFH1oPHcvD0+wFVQdLs1z+R1NPjTf8JnLR/xoCKDxIyLSnNe88hvmN\n",
       "R9YZw8KvV1kPlM9llj3i6BSDlg0xIZ9N07FrRHa2BFXXp0jvFTcENIdw5IF1aFwnPMCT/VeNkqH1\n",
       "HJEBoS7N5Mp+1EG9a2diydqZvMfP9WrZm9YMJH6n3mcZT99z/8qh1OwoXcBMpfDJ5SK9D9igwpJP\n",
       "GJcJ0je23tIedMWAsbj4njKmRb9NWc6MFSe3rrkk4LKbGlZ+JSupXUAl0KsiDPp1yrdppCB7feny\n",
       "3iDY92E/lIHkEvRwAzyqfgZplE0eZQfKi1Ldr3kqkUhTlLOxc+CLo6MUXg7Bhi+UDhOl6xtu/yP5\n",
       "WDf8oXigI3huXz80bFyXvyAy2Cs/9P8u2myANuj1HHUNEK/a4oeP0A9RbntjtOsZ2AMnd0SJ4Jof\n",
       "ouna+cjjr5oupY4xrqThgotpLXJNJhSmdvXYlWHwEYhkYGqoYQxkV5F17ySTI8Xynyq6h6ro6NAN\n",
       "CAAOAvXPQj52M9b4lK59mlMq0pkTlWt9C+AQyuYA/tIW6b+c98bip57lszxlK+iqALJxFRScUNnk\n",
       "Mky8UArKLqCvrG3bCstYzUBOCWNdsM25HGZmVbHtsDorKIL2npEJwezmycmlT1arjnk1tU+3iYO8\n",
       "c7iOY2zTPQy0lfThBzwnCOfJUyaUNdrGc47l/313qp7cf/t4pPt1G1oNqqeDkenciq5xAxZ//IcQ\n",
       "l0rKy3IAcLO0U91dEJy020wPMJN2mdCEtHWEt4L2iVMp0m19nR+0A+hpMK/rSpwohVkM4TC0Zf24\n",
       "jz8cSiMSocpND6/k//qvb1Bw6Y+g+MEMXKLZrA2V8AzybQ22RVQf//lGmjlgp82BHkfQ4SN2KBV8\n",
       "KISXrp2gqHf2O52XzvR93zTJwqzdhhgLujeUC61DZD14OknJFn8xVzdRsvHYArdvHn4Qsvz0fUbz\n",
       "DG6sJmZUI5akszAoICB55zBzY9l4ybczqmJL5bAZdQBpNt+2jwWzBAuMeXHl2Qf+I4LXBoIAVH6P\n",
       "VWrrO2JRwm+DN/jnwRzTRYPleEYKpWV+r6QxE7okqI5IsEYjRaXul8OVk8Z6qUvzA8CbSIhtxQHr\n",
       "cFKdrWYjZmapV4kQjKYHsDUvHO4ZQZGynCMY24eCEHxSSDMDdGOjPM+aNRtJvKczPVxHqSioNa03\n",
       "hfgC9d5Pi3lFUp9nMXEFL6Jx/NoRAsjNJpx5uJ8b5cn9m+m5LALUK0Qzq9/ocpYTTGUJFFf1kmgP\n",
       "HbYJN/PB6NEIvScY0COvhb2QtwiK9i7JsZookVv7kenyYo5Mvgs9PO7HEJ3hA6yElpt2NhmCARbF\n",
       "gQOJ63pBmVN3y4tSdkAmkkhmtGwctzqIIJ8RHIKI2wzyGu//Gn4GrGrz1OBdvu+B3Jm+ReRsYVcZ\n",
       "aUA35DkYdYMqcI8Jw0V7BXa0n3LNcEPLg6piZI8I3ihXjLAd/421dLPeurxzu4GAswdkD8BDKlnr\n",
       "X3LsLyseX6kx2tNhMpJUPHy8NhNx+SuRDwHOGgiIreueFMhLUvieeuk1NSmFIohhyCLlJUwYmwYA\n",
       "1fWAVjrRxG6KIg3rg8jIdUcK/34TGu2nPRD/HaoAcC13ldocAnrq4ZJkcAAwj+wAAHZBAAABEEGa\n",
       "ImxCv/44QAuZMjgAtJYOQa7TGLBB/Ty/oDkKWleAP67QX8tqrHvlE9Jfb8k/tMihdIhIiRKONJbq\n",
       "JmPNPHCPLOvRVSFannxvNkjKNLGM49D5UrxlddyZm+z5Nba6j/q1hwDotRd9Tu7C4D4Bn7FzLmSv\n",
       "oWLvMvc7u0E23S+M+6FjpTjlsShpoS7RktgtLHebCMUza5E/7NtEm5S520C/YIKpaO9NOwiCpyiU\n",
       "gsQb46twmJKN7Q79duIYMTLAKs3+z2bRNDymBenLYjuly+Ltyn61UIEW5R8gftV7FiPk3LgGr2ek\n",
       "jRKzomhVAP4iDZWeefOJ/ztGN7C+l2VSWfTfgvaJc2Sz3Pd8M7JeNW0kAAAAeAGeQXkf/wDD/X4W\n",
       "Wch+rAANynFq4s8bHpj6mmu7BuHSKJD80CTOzDwa5sJZq8fpu9Ca43dzEyNAzf6j0Atx7CPpz6X/\n",
       "sWtTKP+/BbocctJgIlUc06AT1BKDEgMOeqbzeNxuAmgiFmAihoI7CoNpNVwKpP0yw/GtIQAAAIJB\n",
       "mkM8IZMphCv//jhABSPa3APNErTO2xjABaspOBFs1KYsy9bpvKBzq2YhLWnRloi9oXqVhbVun92V\n",
       "/xOAdfUibXDcFny9qVAMft1v7DXvKBCOq591TQMdYt3ObBtc7utrBAEW2a/P7JQISPTbfe67TKmI\n",
       "DOrGLovoSorcYqUyMvcgAAAAXkGaZEnhDyZTAhX//jhAAnspsubmAGfKQACGwfqwq77vEPyjqjNJ\n",
       "hfZKBZlua3HxWT2CCs5QiTbhfwz0pYdiH+jt0ubl6sOLw0yDWQc2oUPxvOY4NQoj8JpQNWC4pG0A\n",
       "AABhQZqFSeEPJlMCF//+jLABSw5SDj6IChgFKkGdlLF+FW7WA/OZuDrWh1q/RJ+en8LfQ0tXa5R9\n",
       "BJ6fIgn2M2w1dOmQc4sJ+Gf/2xpKBYPkYe/ZURrut65JUJNkMgyEsrHSuQAAAF9BmqdJ4Q8mUwUR\n",
       "PC///oywAUnzZ0L8703pT6Hv/L+3qUALFz3gWR8EC47VWKAjks4NMVoMNBulXBwxbT4+fYqKu02/\n",
       "oftlCo8k7jJaiXHQ78f0xJxBu//YVBCOdHKNKQAAADkBnsZqR/8ApfikYDGColhxJxwACW0rrm6U\n",
       "50zJ+D29SKRdAUXOMc8R2kkN6ZZOhpFnd9kNtqy6PvUAAABXQZrLSeEPJlMCF//+jLABSgr/0szw\n",
       "8Md4QZbgyAEtW1GPTk4KNKnPIKz/mZNUK2f3nL03qQRmUpON+mSCMJTRaFqzd3Q1+ByPl7f8BfLI\n",
       "H/C3xPDP0QfgAAAAPEGe6UURPCP/AGhNJTIIgBbO83r/F0WqGBh2dnY+jCCA2V70wpxZ5Wwiv2D1\n",
       "r8kzPfIKC5uMSpxdUYsHgAAAAEMBnwh0R/8Ap7gXWhjBj2BTZE8AEcVmOuHKB02Dbnazurep73Aw\n",
       "+7IX1X1gVL4JP/3/TAR3AePiW8TU67cb77vO82BxAAAARgGfCmpH/wCoFSW8gAK51G05vrQWnZye\n",
       "I7ROgdL/3RWNYBI28U0EK9gu2qU2rtBOEgr6l7CAbEbLh/x9YTI3Qx/5ptyVhMYAAABeQZsNSahB\n",
       "aJlMFPC//oywAUoK69LPzgBnN8l4gLICrnQ45yXjm83+v0oNq1XIJvY1Wwmcl3Vbm8XYdWuVdSZp\n",
       "Hk9A7Gp/Vl4d5Clf/zCffYCT2+tEnTO5uBeny8IqVQAAADQBnyxqR/8AqBUl5DgAfzdJ7zQMUILo\n",
       "iLFHXDNBNwLKAW0DxpqjclV/MaM3K/77QbOUdnj7AAAAV0GbMUnhClJlMCF//oywAUlmBZjPp5CR\n",
       "HOnkgF6wAsnhepbGOTUkffxLOt6jH0HAEec7XpvdpFRrtJPlq5gaerHwFM2USQ2kORe+T77ECe0/\n",
       "Jj297SKGwQAAAD9Bn09FNEwj/wBpDzE+X2Ovxf4AbCiiWgyn6+qiu1itSv79rXT4M6L1zBdL0oMi\n",
       "oYPd9vwyqQo9zJrUyUFJbPEAAAA3AZ9udEf/AKhuZAzF25koSADNOoCwAKKJxeiB2pfTx0FVV7o7\n",
       "moc75qzcvYsr7fc+zCuAHRLIMAAAAC4Bn3BqR/8Ap8xwJ+NJtIKJ2Pjnw4AE4J6ph1e0nfcTpr1O\n",
       "ESuPloyib26fJxeGAAAAakGbdUmoQWiZTAhf//6MsAKBs5RrexcT2zyPDRAVNYl8bJa4ppkCAJhQ\n",
       "lqMzG1I9LeX1lyO9L0DoTc1t7BuS+PVLA8zgMSi87Z5UJb30eY7wUpTJc1ewGilHwxtRJgJ/NUsA\n",
       "b24NoD1E6UEAAAA8QZ+TRREsI/8AaD25FvPz76Rmxe1uw2AFvEHZU79rWXPyFngHeWqe8PYSxGla\n",
       "fbtnpfgzD58dXYBbWIrAAAAAPAGfsnRH/wFH9LHz5LOVGAHJC4ASfh/aq4n2Zk37vQLtcj+ADlUn\n",
       "XZ1PWmDmBaj8KyF6Fm8qN/BWoAtZMQAAADwBn7RqR/8AperiV91wAJWv1iQ/SHS07cFSeTVP9rrB\n",
       "rJdxvsD6B99mnnpyT+X3MCPJnn3N4O9elz4GaCcAAABkQZu5SahBbJlMCFf//jhACalFNKYwAsmi\n",
       "nDqjPTQXK+sf2wtuBHArEONC98QtDnGOq3z/dvQqNVyZUWtCtkiV/QXqflLRo3dbx1ekldhIA/xg\n",
       "RjvRX9e+ATYs2Ad3y4IpelSLEAAAAEdBn9dFFSwj/wDOV/X/jADcKfwR3SXXoThuAKK8xBTXGHnL\n",
       "NcGvn0MX6vLIczmZBK8v+5P8zPrPU/uODvKskIRtVnHPe5IgYQAAADMBn/Z0R/8BQ1RrVpReo3gB\n",
       "JjDtb0pvMTIXvm9wqtoCfygOg3LKXai5Dle8k0cD3ZORv4EAAABDAZ/4akf/AUZOwaDGEAE6uaJJ\n",
       "zIlhSEHW3/lfDtwoWkH+FAaxM5YAcfke5n7Ilz/64xWFMxcVPabjg2vds3AiRzVfUAAAAFFBm/xJ\n",
       "qEFsmUwIT//98QAYZPUNNi0nnCUzl4YM5t+B3eXY6V6Rb9RcxyMAZrkwdgP0ZSFT2uiaC6NA/Msa\n",
       "1l5vY1zeKPtG6O37m9lpNJIULEEAAAAvQZ4aRRUsI/8AznM8gl3uJufnQAlsi66I1vlumVoSwrFA\n",
       "X7VyAwFCkxvR8qgPjWIAAABIAZ47akf/AVEgQg7QAAHr28EulauzMQCTAytD/uv5hQ2msQdVbzfa\n",
       "kBWgnRBbFRex+3Qn1YMWbHU+84FUm4VrY7Xiz03bdDORAAAAQkGaPUmoQWyZTAhP//3xABho1zuG\n",
       "CSDFgEAEPzmLTpXgXKixSoVioX/i9/QSC3c35twbhBBro7Ki+JZQgcZmKKMYgQAAAFBBml5J4QpS\n",
       "ZTAhP/3xABiAUdS7KsAJIvrgXU60k0Cjp19qGgs3sdAhMDxEfQkyhgjvyekYIdxh40ZRwPzAm8xd\n",
       "pOFVQUb3xbzsAcvZa3rlLAAAADxBmn9J4Q6JlMCE//3xABiD7JS5aFFwANez8CAD6EdcEAUm9MtX\n",
       "LxbFbslmkfzrvOn9rUyCCDXRuZZkSLAAAAAgQZqBSeEPJlMFETx//IQAl3uEBaMgRH+/8Pe3RytV\n",
       "g2EAAAA3AZ6gakf/AVDqJHzUAF1CIQM+ap6pjJyUyyvbgXHHxsfWVcRqf3tPCpzidhDx4Tc6HWSi\n",
       "l1AnUAAABJ5tb292AAAAbG12aGQAAAAAAAAAAAAAAAAAAAPoAAACqAABAAABAAAAAAAAAAAAAAAA\n",
       "AQAAAAAAAAAAAAAAAAAAAAEAAAAAAAAAAAAAAAAAAEAAAAAAAAAAAAAAAAAAAAAAAAAAAAAAAAAA\n",
       "AAAAAAACAAADyHRyYWsAAABcdGtoZAAAAAMAAAAAAAAAAAAAAAEAAAAAAAACqAAAAAAAAAAAAAAA\n",
       "AAAAAAAAAQAAAAAAAAAAAAAAAAAAAAEAAAAAAAAAAAAAAAAAAEAAAAABsAAAASAAAAAAACRlZHRz\n",
       "AAAAHGVsc3QAAAAAAAAAAQAAAqgAAAIAAAEAAAAAA0BtZGlhAAAAIG1kaGQAAAAAAAAAAAAAAAAA\n",
       "ADIAAAAiAFXEAAAAAAAtaGRscgAAAAAAAAAAdmlkZQAAAAAAAAAAAAAAAFZpZGVvSGFuZGxlcgAA\n",
       "AALrbWluZgAAABR2bWhkAAAAAQAAAAAAAAAAAAAAJGRpbmYAAAAcZHJlZgAAAAAAAAABAAAADHVy\n",
       "bCAAAAABAAACq3N0YmwAAACzc3RzZAAAAAAAAAABAAAAo2F2YzEAAAAAAAAAAQAAAAAAAAAAAAAA\n",
       "AAAAAAABsAEgAEgAAABIAAAAAAAAAAEAAAAAAAAAAAAAAAAAAAAAAAAAAAAAAAAAAAAAAAAAAAAY\n",
       "//8AAAAxYXZjQwFkAB7/4QAYZ2QAHqzZQbCWhAAAAwAEAAADAZA8WLZYAQAGaOvjyyLAAAAAHHV1\n",
       "aWRraEDyXyRPxbo5pRvPAyPzAAAAAAAAABhzdHRzAAAAAAAAAAEAAAAiAAABAAAAABRzdHNzAAAA\n",
       "AAAAAAEAAAABAAAA+GN0dHMAAAAAAAAAHQAAAAEAAAIAAAAAAQAAAwAAAAABAAABAAAAAAMAAAIA\n",
       "AAAAAQAAAwAAAAABAAABAAAAAAEAAAUAAAAAAQAAAgAAAAABAAAAAAAAAAEAAAEAAAAAAQAAAwAA\n",
       "AAABAAABAAAAAAEAAAUAAAAAAQAAAgAAAAABAAAAAAAAAAEAAAEAAAAAAQAABQAAAAABAAACAAAA\n",
       "AAEAAAAAAAAAAQAAAQAAAAABAAAFAAAAAAEAAAIAAAAAAQAAAAAAAAABAAABAAAAAAEAAAQAAAAA\n",
       "AgAAAQAAAAADAAACAAAAAAEAAAMAAAAAAQAAAQAAAAAcc3RzYwAAAAAAAAABAAAAAQAAACIAAAAB\n",
       "AAAAnHN0c3oAAAAAAAAAAAAAACIAAAp+AAABFAAAAHwAAACGAAAAYgAAAGUAAABjAAAAPQAAAFsA\n",
       "AABAAAAARwAAAEoAAABiAAAAOAAAAFsAAABDAAAAOwAAADIAAABuAAAAQAAAAEAAAABAAAAAaAAA\n",
       "AEsAAAA3AAAARwAAAFUAAAAzAAAATAAAAEYAAABUAAAAQAAAACQAAAA7AAAAFHN0Y28AAAAAAAAA\n",
       "AQAAACwAAABidWR0YQAAAFptZXRhAAAAAAAAACFoZGxyAAAAAAAAAABtZGlyYXBwbAAAAAAAAAAA\n",
       "AAAAAC1pbHN0AAAAJal0b28AAAAdZGF0YQAAAAEAAAAATGF2ZjU4LjI5LjEwMA==\n",
       "\">\n",
       "  Your browser does not support the video tag.\n",
       "</video>"
      ],
      "text/plain": [
       "<IPython.core.display.HTML object>"
      ]
     },
     "execution_count": 68,
     "metadata": {},
     "output_type": "execute_result"
    },
    {
     "data": {
      "text/plain": [
       "<Figure size 1080x1080 with 0 Axes>"
      ]
     },
     "metadata": {},
     "output_type": "display_data"
    },
    {
     "data": {
      "image/png": "[encoded data removed]",
      "text/plain": [
       "<Figure size 432x288 with 1 Axes>"
      ]
     },
     "metadata": {
      "needs_background": "light"
     },
     "output_type": "display_data"
    }
   ],
   "source": [
    "rocket = RectRocket(600,320,2,0)\n",
    "target = Target(25,0.01,50,0.01,100,320)\n",
    "world = World(rocket,target)\n",
    "\n",
    "\n",
    "HTML(plot_images(world.run()).to_html5_video())"
   ]
  },
  {
   "cell_type": "code",
   "execution_count": 69,
   "metadata": {
    "colab": {
     "base_uri": "https://localhost:8080/",
     "height": 282
    },
    "colab_type": "code",
    "id": "oUw5vNPODea2",
    "outputId": "0d8a8fe4-1f89-4403-a210-fc29c4509eb7"
   },
   "outputs": [
    {
     "data": {
      "text/plain": [
       "[<matplotlib.lines.Line2D at 0x25bcbb83108>]"
      ]
     },
     "execution_count": 69,
     "metadata": {},
     "output_type": "execute_result"
    },
    {
     "data": {
      "image/png": "[encoded data removed]",
      "text/plain": [
       "<Figure size 432x288 with 1 Axes>"
      ]
     },
     "metadata": {
      "needs_background": "light"
     },
     "output_type": "display_data"
    }
   ],
   "source": [
    "plt.plot(world.distance)"
   ]
  },
  {
   "cell_type": "code",
   "execution_count": null,
   "metadata": {
    "colab": {},
    "colab_type": "code",
    "id": "wJRfpF5hDea5"
   },
   "outputs": [],
   "source": []
  },
  {
   "cell_type": "code",
   "execution_count": null,
   "metadata": {},
   "outputs": [],
   "source": []
  },
  {
   "cell_type": "code",
   "execution_count": null,
   "metadata": {},
   "outputs": [],
   "source": []
  }
 ],
 "metadata": {
  "colab": {
   "collapsed_sections": [],
   "name": "Lab6.ipynb",
   "provenance": []
  },
  "kernelspec": {
   "display_name": "Python 3",
   "language": "python",
   "name": "python3"
  },
  "language_info": {
   "codemirror_mode": {
    "name": "ipython",
    "version": 3
   },
   "file_extension": ".py",
   "mimetype": "text/x-python",
   "name": "python",
   "nbconvert_exporter": "python",
   "pygments_lexer": "ipython3",
   "version": "3.7.4"
  }
 },
 "nbformat": 4,
 "nbformat_minor": 1
}
