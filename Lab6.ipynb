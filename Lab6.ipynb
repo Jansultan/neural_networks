{
 "cells": [
  {
   "cell_type": "code",
   "execution_count": 1,
   "metadata": {
    "colab": {},
    "colab_type": "code",
    "id": "twBmPWIxDeal"
   },
   "outputs": [],
   "source": [
    "import numpy as np\n",
    "import matplotlib.pyplot as plt\n",
    "from PIL import Image\n",
    "import matplotlib.animation as animation\n",
    "from IPython.display import HTML\n",
    "from skimage import draw\n",
    "%matplotlib inline\n",
    "#comment                                                                           "
   ]
  },
  {
   "cell_type": "code",
   "execution_count": 2,
   "metadata": {
    "colab": {},
    "colab_type": "code",
    "id": "UYGJsE-zDear"
   },
   "outputs": [],
   "source": [
    "def plot_images(img_list):\n",
    "    def init():\n",
    "        img.set_data(img_list[0])\n",
    "        return (img,)\n",
    "\n",
    "    def animate(i):\n",
    "        img.set_data(img_list[i])\n",
    "        return (img,)\n",
    "\n",
    "    plt.figure(figsize = (15,15))\n",
    "    fig = plt.figure()\n",
    "    ax = fig.gca()\n",
    "    img = ax.imshow(img_list[0])\n",
    "    anim = animation.FuncAnimation(fig, animate, init_func=init,\n",
    "                                 frames=len(img_list), interval=20, blit=True)\n",
    "    return anim\n"
   ]
  },
  {
   "cell_type": "code",
   "execution_count": 3,
   "metadata": {
    "colab": {},
    "colab_type": "code",
    "id": "Gc_r3VOJDeat"
   },
   "outputs": [],
   "source": [
    "class World():\n",
    "    def __init__(self,rocket,target,width=768,height=640,stop_limit=100):\n",
    "        self.rocket = rocket\n",
    "        self.target = target\n",
    "        self.width = width\n",
    "        self.height = height\n",
    "        self.time = 0\n",
    "        self.stop_limit = stop_limit\n",
    "        self.worlds = [np.ones((width,height),dtype=np.uint8)]\n",
    "        self.distance = []\n",
    "        \n",
    "    \n",
    "    def gen_img(self,world):\n",
    "        buff = np.array((world,world,world))*255\n",
    "        return buff.reshape(self.width,self.height,3)\n",
    "    \n",
    "    def run(self):\n",
    "        print(\"Run the world\")\n",
    "\n",
    "        while True:\n",
    "            self.time = self.time + 1\n",
    "            xt,yt = self.target.move(self.time)\n",
    "            xr,yr = self.rocket.move(self.time,self.target)\n",
    "            self.distance.append(np.linalg.norm(np.array([xt,yt])-np.array([xr,yr])))\n",
    "            rt, ct = draw.circle(int(xt), int(yt), radius=10, shape=self.worlds[-1].shape)\n",
    "            self.worlds[-1][rt,ct]=0\n",
    "            rr, cr = draw.circle(int(xr), int(yr), radius=10, shape=self.worlds[-1].shape)\n",
    "            self.worlds[-1][rr,cr]=0\n",
    "            self.worlds.append(np.ones((self.width,self.height),dtype=np.uint8))\n",
    "            if self.time>self.stop_limit:\n",
    "                print(len(self.worlds))\n",
    "                print(\"Stop the world\")\n",
    "                break\n",
    "            if self.distance[-1]<10:\n",
    "                break\n",
    "        return self.worlds\n"
   ]
  },
  {
   "cell_type": "code",
   "execution_count": 33,
   "metadata": {
    "colab": {},
    "colab_type": "code",
    "id": "19PtinByDeaw"
   },
   "outputs": [],
   "source": [
    "class RectRocket():\n",
    "    def __init__(self,x0,y0,v,angle):\n",
    "        self.x = x0\n",
    "        self.y = y0\n",
    "        self.v = v\n",
    "        self.angle = angle\n",
    "    \n",
    "    def move(self,time,target):\n",
    "        deltax = self.x - target.x\n",
    "        deltay = self.y - target.y\n",
    "        # Put your code here\n",
    "        # Calculate your angle and apply it to new (x,y) coords\n",
    "        # Steps:\n",
    "        # 1. Calculate alpha = arctan(deltax/deltay)\n",
    "        alpha = np.arctan(deltax/deltay)\n",
    "        # 2. Calcualte new_x = old_x + sin/cos(alpha)*v\n",
    "        # tan = sin/cos     \n",
    "        \n",
    "        self.x = self.x - np.tan(alpha)*self.v\n",
    "        self.y = self.y - np.sign(deltay)*self.v\n",
    "        #self.x = self.x - self.v\n",
    "        #self.y = self.y - np.sign(deltay)*self.v\n",
    "        return (self.x,self.y)\n",
    "    \n",
    "class Target():\n",
    "    def __init__(self,r1,f1,r2,f2,x0,y0):\n",
    "        self.x0 = x0\n",
    "        self.y0 = y0\n",
    "        self.r1 = r1\n",
    "        self.f1 = f1\n",
    "        self.r2 = r2\n",
    "        self.f2 = f2\n",
    "        self.move(0)\n",
    "        \n",
    "    def move(self,time):\n",
    "        self.x = self.x0 + self.r1 * np.cos(time*2*np.pi*self.f1) + self.r2 * np.cos(time*2*np.pi*self.f2)\n",
    "        self.y = self.y0 + self.r1 * np.sin(time*2*np.pi*self.f1) + self.r2 * np.sin(time*2*np.pi*self.f2)\n",
    "        return (self.x,self.y)"
   ]
  },
  {
   "cell_type": "code",
   "execution_count": 34,
   "metadata": {
    "colab": {
     "base_uri": "https://localhost:8080/",
     "height": 594
    },
    "colab_type": "code",
    "id": "N6Fd5dmhDeay",
    "outputId": "f4453f5f-3923-4335-c12c-ea3ebf6da3bf"
   },
   "outputs": [
    {
     "name": "stdout",
     "output_type": "stream",
     "text": [
      "Run the world\n"
     ]
    },
    {
     "data": {
      "text/html": [
       "<video width=\"432\" height=\"288\" controls autoplay loop>\n",
       "  <source type=\"video/mp4\" src=\"data:video/mp4;base64,AAAAHGZ0eXBNNFYgAAACAGlzb21pc28yYXZjMQAAAAhmcmVlAAAVq21kYXQAAAKuBgX//6rcRem9\n",
       "5tlIt5Ys2CDZI+7veDI2NCAtIGNvcmUgMTU4IHIyOTg0IDM3NTlmY2IgLSBILjI2NC9NUEVHLTQg\n",
       "QVZDIGNvZGVjIC0gQ29weWxlZnQgMjAwMy0yMDE5IC0gaHR0cDovL3d3dy52aWRlb2xhbi5vcmcv\n",
       "eDI2NC5odG1sIC0gb3B0aW9uczogY2FiYWM9MSByZWY9MyBkZWJsb2NrPTE6MDowIGFuYWx5c2U9\n",
       "MHgzOjB4MTEzIG1lPWhleCBzdWJtZT03IHBzeT0xIHBzeV9yZD0xLjAwOjAuMDAgbWl4ZWRfcmVm\n",
       "PTEgbWVfcmFuZ2U9MTYgY2hyb21hX21lPTEgdHJlbGxpcz0xIDh4OGRjdD0xIGNxbT0wIGRlYWR6\n",
       "b25lPTIxLDExIGZhc3RfcHNraXA9MSBjaHJvbWFfcXBfb2Zmc2V0PS0yIHRocmVhZHM9OSBsb29r\n",
       "YWhlYWRfdGhyZWFkcz0xIHNsaWNlZF90aHJlYWRzPTAgbnI9MCBkZWNpbWF0ZT0xIGludGVybGFj\n",
       "ZWQ9MCBibHVyYXlfY29tcGF0PTAgY29uc3RyYWluZWRfaW50cmE9MCBiZnJhbWVzPTMgYl9weXJh\n",
       "bWlkPTIgYl9hZGFwdD0xIGJfYmlhcz0wIGRpcmVjdD0xIHdlaWdodGI9MSBvcGVuX2dvcD0wIHdl\n",
       "aWdodHA9MiBrZXlpbnQ9MjUwIGtleWludF9taW49MjUgc2NlbmVjdXQ9NDAgaW50cmFfcmVmcmVz\n",
       "aD0wIHJjX2xvb2thaGVhZD00MCByYz1jcmYgbWJ0cmVlPTEgY3JmPTIzLjAgcWNvbXA9MC42MCBx\n",
       "cG1pbj0wIHFwbWF4PTY5IHFwc3RlcD00IGlwX3JhdGlvPTEuNDAgYXE9MToxLjAwAIAAAAe4ZYiE\n",
       "ADP//vbsvgU1/Z/QlxEsxdpKcD4qpICAdzTAAAADAAB4HShe6EUz4PKLjUBlgNOTWQIkEM8bSvI1\n",
       "Ii51xCBzo+JoKsAADxI9NNqSn8TGs7pjda6KnAiMnZGl5+5iVJGVrlLqJVNri/Br5S2bZf+aGFr9\n",
       "uWKtnI5Fy+L3BZuEncOAYpAV3SB9FQ17txfQHmex/I1WOulCDRbIGzpjKwd0YtacCNAUIE3vLcd7\n",
       "T/crT0L5jAQZPB2l11Hiu7hin9aHFGe426Pyy4vs9NrEVQacquDJ98gQwovQ2qN/64kDuRB9kq92\n",
       "vqY12vdSKc3hy3G5wl+hV2EU7tl7+arfAfc3JYDqCvZoMxGY+fiscOEMBM8FFJem7fYiDHhLdY/W\n",
       "En1LJ/o1LatVt7+wCNO6KHkyZ1xHgldL86oApoMmPhJ81TJ4x8REsO1c4JMrEZVdEempZHNE6b0M\n",
       "hYHjRElePc1B7khhLhcZuLhqY3k73x7LszDV56pI5kfdm9glneIhuu2tqVLsNjfPDAVsqoceaJPS\n",
       "cC0Pp/Tpf0zGClrQUp7qJbqPN5nUFnkmkluFpX7Xh0wzpJyMwDQ15MVD6+i4n+d++nlZTcQ9T5fg\n",
       "ghT+GoGYxmnnDVDucFs0piDOk6BIaSnx3Dgxa4LjV9e1pm2h3XPEtcd7LXBBJ414DbnZOG33yhE1\n",
       "xYk8rVv5Pk+lKJmo80aX1MRATaxXqXthgcM13TWSXrzWiSoZHole/1FNV+Qv3N8qO6qXt9u/V9mo\n",
       "ZV5uExF29tCXoebkPl66YCro/P5LJZyOZTZBihOFrq02OXQ51eqVGYo5UXyNPaMfrxZSxhi8i7T5\n",
       "q9OwocOHzY+sfe0c7u6yec8zovhA2JRalWy811cFTzIWv+8/RZfm6TwzeN7cSI0TWEoSjmBEhn8J\n",
       "ZnNxm8SJEVqJSTnwMQvE6G9YlU38G86iZv1KQ/O8l7t228a+p1RGcSk1ChdQ3gmx3+zvOYB2k6Pu\n",
       "mysIqH+wpzO2GBFJmQaJ0jgyquaO5eHp9gLTgd5kX+nGOnJ8ab/bzpbhk3UcO2oAgCaqLVIwFN01\n",
       "16RSV78Y5zNqPrDOHhV6kcLs5z2WWPeLoE56eJeEhn03TsWs2zbYEVdenSO8R/EYfROFfMmHdqiZ\n",
       "ZASf+BbKq7iPhh0NCXZvJlP2og30uU6SNHlPhLn+rVszesGEj9T7zOMp++6f+ry2qn1klmyMvhk8\n",
       "pFdESv0QKPWS/DCjiMPodHtWiipzs843ppxj08JgJFCAczO32zvANDt0IQKDy8B/jRzmRFUQFpNK\n",
       "D+UclfGOSnFzSPJqyohCAW3/ZJajZ//3MB0iPf2Av1tEEECw073Yke29UJ+4aCirhOuu7O1tTfBw\n",
       "mOKpchhZ8Hi/1iHQKh3RKelYN1UCrcZmC65B62AK88OGr0VTmcqVDJIlgnlFxWuwkrJp23KeVcDO\n",
       "p/FMuXQA4aK1LdIkwpTO3rtL9QQEYhkYGqoLssw7b5BSyl2s8Xynyq6h7S1akEeiAAOAvXPQj52R\n",
       "oeUR4Zb3m+il0Rs8VfCYvgEDf+AP7SFum1Wl2G4qee5bM8ZSy3WZha9Sox5IUVkMky8UArKLNQMP\n",
       "NeP6lDAM9B9kSPjpyeihIWAnJN/92j75YnOmqqz6lAEHcmvM9IBuevi9fHTPX1Sw1EBWFLYumtWI\n",
       "sNZQ5ocbm+x1fVejLdJuZFn+1BUyLb14AtS2Exv4AjMZwkTw/aVVPByjmFA8z5CyHYAtnfeL1t6L\n",
       "h/rZiAuGU+DdbPfF2ZW7IJ1BL5u/c7A6XJXi/YQw6+5P0qlgZCV/nqaPf3xWb4ba+ai6yxUnrL3P\n",
       "eD/M7SZzuIAYQY5xJM3c8sGDciRv3bHsN7pUmYRcX//tWv5xpRZMfIwhE1m6nJTXkGnuem7Ubmr/\n",
       "jElx2y1j1Isrxeaxc6z2MnRVpzOLZwrr7R52VW7tf9FI8vV/KsHOBpNntOZkHH8TbLxPep1vk6on\n",
       "R2TBC70d7mDpNCgWPQVbIKqACJdWgTIMDheQf7qvs9bu96L0PpoIAUsWav2ApYBkWzCgPtGfq0x1\n",
       "qBHJ7UadA8pYQTeCneh0Sgt/JKT6YItL2m6FjPt93bjJoX1UYJM4zPqQ8hWDx35W20bKlVngK4cl\n",
       "NeFFYMKQxbI2U4RiyeuAlc8UkgzA2PQ3W7dGpVG0m8pzM9W0Wx9TNF02ZfzOpsJavFvKKpT9ur1H\n",
       "CWwtOIVVdmuzPP6DL2Pq7+yA+brxS4rCUEQmu17+nJlbYQK57VKLp9YR05GmyiSGBquXxw+cphjY\n",
       "J6BD+M8Q9nnGbIx3Tfm5+0H5ZIwbUkIZzOyKvGqy4myY5YAc79r6D4yD2VWxDmpr7MrNdMBaTPlG\n",
       "Xnsm6FfSXabjWCu5yAMIulKEEnYJ96HyHLv89myUOy4GVQh5DO0xWXp2S0N1HrEpIdZup9aZ9a0X\n",
       "5EUnFzzunhVsYIB2FKx4r0p6OoekIMlHVufxAZ2jb2Kt/OxjCUjjSrX44013oGgysLSqlylvfTHy\n",
       "GLQwskPKgBzAOcNBERW9Y35QDV7F4+k2e4N7E00Ro5FiW/diby7nwC+Xe/F4rG5cGNkoriHTFs4I\n",
       "D3b0Z/9/e9aP1xAvROmRcg5xyBNXVwyTkAAfhjpqHp4SMs8AAAFMQZokbEM//p4QBjkdSAA5+874\n",
       "/O6HPnOtg/lw58LMrBA+TU3FclNn/LSVjiFlh4veUhTI/YyFIuKRH+vE/3Mdo+7gFbLkHIUXyj+n\n",
       "MNml6XvoXApksp3J+KUQAVNrrOwDvJHoNVH8Sbu795X1sVisnDUBtYiYEH5Zke8sjHZsbtAm3seE\n",
       "pCNu+O1S6jhH3+HuzcBdjcBxRPzathmTK8okxKEbcut1TegRTroz2xzCqlWbY0z5N3LnFTBR1J64\n",
       "K3nXZAUCDebDffFX6b/8zyT+vYknzoDoCTMe1sIhJ71CDzZz9JtqltHi6ToooVAJJSKIRAWu3UfZ\n",
       "JEc+c7CloDtKK7XvjnutqxVba5fLGnVgBO7P8q+i5gC61LEpfuiOEBSZ8EbqHhvicV7oiDxNwI9O\n",
       "Vy+TDmHsNkcIVd6PE7ye4wDJWvjsFXs5WNcZlpwAAABxQZ5CeIR/AeYBzJ0iKLCBY2MieAFcsb2v\n",
       "byk63SX8YJ15djM1on0yDmKGdpW4/thhIEuAGMxzIKyM/EP9KYQIVTTZ2LcY4BERSWe/7dZ6sgxh\n",
       "PL+b3mej0x6308H3uFkPIhgcnRSAKFpTFvmV9VwZoRsAAAB0AZ5hdEf/AwuE7OXOjzNibvgBZerC\n",
       "TTSId5j9i1uXOfMZmGC4CZLCfHKhVab/le4i1OPf+JY1f7h3lRU8fm1uQD3qrR6P8QKG8hMrM9ru\n",
       "EXldO2gLAhMw9xgEMCiclznQ6SJSvZf3hlnuKCHFrYaRmnBN3SMAAABbAZ5jakf/AFViC4Mbk8AD\n",
       "9yPKitn2OJysla6dCrJwe7U54L/f+rsnJxQ5Wx7yWMSjnTwMhvqEsSSvKpmI/F57cAwlcSwONeKv\n",
       "XPCPBvhUF/ui4j1etPwl44oIkQAAAE5BmmhJqEFomUwIZ//+nhABR9g9J41QecALaYGwkjZUOXgN\n",
       "6fdOkh8M9xAUz9Ce0JgzjooeMb4xQnZ307ewWnNS7WjEov+tZiFTFZs+tIEAAAA3QZ6GRREsI/8A\n",
       "7UQ1iySgPJCbi2r/kjf85YdwAeMKkZig6CbeDghYUZaGWJESMJq/0MZLa9ekcQAAAD0BnqV0R/8A\n",
       "p+jsJZaVCAFg4eJjfRyRMToD3ILiptpT+kGiLLnDpQ0YKu+ekCYSbRhxUOqVyfMh9tmYb4DBAAAA\n",
       "JAGep2pH/wCojGYEwoVY4KBD2J3pjfFDfAprNrcC17EiNmDDUAAAAFpBmqxJqEFsmUwIZ//+nhAB\n",
       "RwV93/He4AJ1pcKn8i0BNRuo09+t7erEg7TiaiIvyHOc+jXtW4pWcjOwR0XUBYBr43bYw7m+9q1H\n",
       "CAQ4ssLkEi901tpsVwJoTwwAAAAlQZ7KRRUsI/8A7UQ1iybIG9zFTpqfIC1YDkjqEZ1oNqPDSHLV\n",
       "wQAAACsBnul0R/8Ap7jIU6p4ALqFM3BkzIkt31PJ/AfupcZEs88HFi1ZvmLtAKRhAAAAHwGe62pH\n",
       "/wCoFSXakAE6fYjeeK5WTqV+7IaUNOyqLu4AAAAjQZrwSahBbJlMCGf//p4QAUbu62L1IABwmNPI\n",
       "Dn7BPYFUB3UAAAAoQZ8ORRUsI/8A7UQ1izPcnDSHSBEiAGjVf4kXcT87Rzznvxbx+DJygQAAACIB\n",
       "ny10R/8AqG5kP9AB33K2z9Oe8/i6dL+fWxQsnm5S0vWdAAAALAGfL2pH/wCn5COxDn0YAWme/8e+\n",
       "E1P8/hZf+RUrgDRBokPzRyDL01ELHQ3AAAAALEGbNEmoQWyZTAhn//6eEAJ6QbuitDDA4WqarnBf\n",
       "u7SOyl+AC1ltYFmSEDlgAAAAH0GfUkUVLCP/AO1ENYsnfQytnw65anvtxwQoxWooxlcAAAAYAZ9x\n",
       "dEf/AKfho++yS+4RMSF1KuHMqcHAAAAAIgGfc2pH/wCoJo7JOpwACZrSi41/yX53iNtmW9dSzkqE\n",
       "phYAAAA1QZt4SahBbJlMCGf//p4QAnqJVU9oOACc1J3vINtzhQn7Q7OQ3qLmgNviYXycRkfXpPGg\n",
       "OmEAAAA5QZ+WRRUsI/8A7USi58YPfUgAiv6qvuQlCI163Dj+CLzEADEzSW7mD9c3ib57GcMUbOad\n",
       "C/AzkKKQAAAAKgGftXRH/wFH9FfLblwAmTNzi/xNbWsIpI4CwCe3Q6PAKXA/YlqabMyJWQAAAC8B\n",
       "n7dqR/8BSBugKr6gAtwBWxvrcSHMSxs0mr4DmMB+gFAToGvjQ7/bMakOG/hErQAAACtBm7xJqEFs\n",
       "mUwIX//+jLACgiCP7A+ABCOOnf5GsmOfjOQlUC29z1YWADQgAAAAM0Gf2kUVLCP/AO1EosX5wLUg\n",
       "AWLdhQ/HHZeQJ6XublOcq5GSYkc1ZutfYjafy9Ip0O5ryQAAACkBn/l0R/8BR4X/Xa1ABMrc4qSz\n",
       "2ydo+IjDl9DX/pDNYLvK0B5ggCMK4AAAAB8Bn/tqR/8BR+ubxQATMB0MlkAqztPAGSu58RIIKpBv\n",
       "AAAANUGb4EmoQWyZTAhf//6MsAUPD/4cLymWWs8P55JI4dCdr8dgmwG+DtdY//48/9IU7RYHlEZh\n",
       "AAAAHUGeHkUVLCP/AZwqfEfnxVOCbImOasyvACpCUhHpAAAAFAGePXRH/wFQ8UkDpIqTIjAtdHpA\n",
       "AAAAJQGeP2pH/wFPr4IVogAGmb8xYUHiof/8jl7e7+Ar2Srk4IP6yuEAAAAwQZokSahBbJlMCF//\n",
       "/oywBTRP0i5nAB9aW5cGw5HMJ/ysDaj1iAv7wJc4i7rBkQHLAAAAJkGeQkUVLCP/AaTUTa7TlxYk\n",
       "3KV6RT2wADVrBIRpCFVUDOKIA70hAAAALAGeYXRH/wKf5fbjUfyABcVn6o4cJ6LOqMq3RRDXaiNR\n",
       "MesC+FYAJq2ck2VYAAAAGAGeY2pH/wKdIomvWOiU7QUvercvUE0ZJwAAADxBmmdJqEFsmUwIV//+\n",
       "OEAT1VBzkftAB34wasWgte+zfs/ZjQwb/2mJxt8wupX+1yLrW/2jyh8n+GkSAoMAAAAlQZ6FRRUs\n",
       "I/8BpNRPQkvU1Z+t8IACvjCB0uk3eVQ9vkRcxTCvgQAAABUBnqZqR/8CnCdKXPLWRmS8r9uSlqkA\n",
       "AAA7QZqoSahBbJlMCF///oywBWPI6IOldhEAofPTlyTj3vwjqE4fCg/nXc+4qIqmIkHEszvulASS\n",
       "B5KAm4AAAABGQZrLSeEKUmUwIX/+jLAFYw/+HC8pkIH1XvHoDQsYvN1fIu5BUFHqk0xZ7OOfqtf1\n",
       "HsbEdZpYMDM/9KX/DgUEa/Yk7sAP8AAAACtBnulFNEwj/wGw3SaNZR71goIATTsCpuivbd6Ea9GV\n",
       "eapUDVHFC8bTVuKnAAAAJQGfCmpH/wU/7zEdwmcKsAAg+IdBmjkccY1Loui/PwXLA0j/nUgAAABB\n",
       "QZsPSahBaJlMCFf//jhAFHd/hNGBoAS1aiJsJTPgcxzEaen6cybnqFa9klOgPRVxM70J4KYxmJgq\n",
       "9n1Nf9ukBDwAAAAzQZ8tRREsI/8BsN1hlsv+jkAC53soytyZx0ptXO+x0a3IFbOC7PeW95goM++o\n",
       "VrFD1FqRAAAAHwGfTHRH/wVC+NzIGn1LBgAM+W1j5mBejsqgQzlmSrEAAAAdAZ9Oakf/BT/vJ7sf\n",
       "6C4YpwAQiC/DFszFysDesu8AAAAYQZtTSahBbJlMCP/8hAE19v7iohq4ADegAAAAJkGfcUUVLCP/\n",
       "A1xqXXe6b0AJg/NiDOFCm4lMChjAqTCRjlWTA81WAAAAGgGfkHRH/wVuvjvaQviSmoAPAKZ2g9Nm\n",
       "cm7hAAAALwGfkmpH/wVrLfXvHMClz4YAIRCV0+OPkDZsGLuigUSUwhkTl1v9F5+eBrTaN1XcAAAF\n",
       "jm1vb3YAAABsbXZoZAAAAAAAAAAAAAAAAAAAA+gAAAQQAAEAAAEAAAAAAAAAAAAAAAABAAAAAAAA\n",
       "AAAAAAAAAAAAAQAAAAAAAAAAAAAAAAAAQAAAAAAAAAAAAAAAAAAAAAAAAAAAAAAAAAAAAAAAAAIA\n",
       "AAS4dHJhawAAAFx0a2hkAAAAAwAAAAAAAAAAAAAAAQAAAAAAAAQQAAAAAAAAAAAAAAAAAAAAAAAB\n",
       "AAAAAAAAAAAAAAAAAAAAAQAAAAAAAAAAAAAAAAAAQAAAAAGwAAABIAAAAAAAJGVkdHMAAAAcZWxz\n",
       "dAAAAAAAAAABAAAEEAAAAgAAAQAAAAAEMG1kaWEAAAAgbWRoZAAAAAAAAAAAAAAAAAAAMgAAADQA\n",
       "VcQAAAAAAC1oZGxyAAAAAAAAAAB2aWRlAAAAAAAAAAAAAAAAVmlkZW9IYW5kbGVyAAAAA9ttaW5m\n",
       "AAAAFHZtaGQAAAABAAAAAAAAAAAAAAAkZGluZgAAABxkcmVmAAAAAAAAAAEAAAAMdXJsIAAAAAEA\n",
       "AAObc3RibAAAALNzdHNkAAAAAAAAAAEAAACjYXZjMQAAAAAAAAABAAAAAAAAAAAAAAAAAAAAAAGw\n",
       "ASAASAAAAEgAAAAAAAAAAQAAAAAAAAAAAAAAAAAAAAAAAAAAAAAAAAAAAAAAAAAAABj//wAAADFh\n",
       "dmNDAWQAHv/hABhnZAAerNlBsJaEAAADAAQAAAMBkDxYtlgBAAZo6+PLIsAAAAAcdXVpZGtoQPJf\n",
       "JE/FujmlG88DI/MAAAAAAAAAGHN0dHMAAAAAAAAAAQAAADQAAAEAAAAAFHN0c3MAAAAAAAAAAQAA\n",
       "AAEAAAGgY3R0cwAAAAAAAAAyAAAAAQAAAgAAAAABAAAFAAAAAAEAAAIAAAAAAQAAAAAAAAABAAAB\n",
       "AAAAAAEAAAUAAAAAAQAAAgAAAAABAAAAAAAAAAEAAAEAAAAAAQAABQAAAAABAAACAAAAAAEAAAAA\n",
       "AAAAAQAAAQAAAAABAAAFAAAAAAEAAAIAAAAAAQAAAAAAAAABAAABAAAAAAEAAAUAAAAAAQAAAgAA\n",
       "AAABAAAAAAAAAAEAAAEAAAAAAQAABQAAAAABAAACAAAAAAEAAAAAAAAAAQAAAQAAAAABAAAFAAAA\n",
       "AAEAAAIAAAAAAQAAAAAAAAABAAABAAAAAAEAAAUAAAAAAQAAAgAAAAABAAAAAAAAAAEAAAEAAAAA\n",
       "AQAABQAAAAABAAACAAAAAAEAAAAAAAAAAQAAAQAAAAABAAAEAAAAAAIAAAEAAAAAAQAAAgAAAAAB\n",
       "AAAEAAAAAAIAAAEAAAAAAQAABQAAAAABAAACAAAAAAEAAAAAAAAAAQAAAQAAAAABAAAFAAAAAAEA\n",
       "AAIAAAAAAQAAAAAAAAABAAABAAAAABxzdHNjAAAAAAAAAAEAAAABAAAANAAAAAEAAADkc3RzegAA\n",
       "AAAAAAAAAAAANAAACm4AAAFQAAAAdQAAAHgAAABfAAAAUgAAADsAAABBAAAAKAAAAF4AAAApAAAA\n",
       "LwAAACMAAAAnAAAALAAAACYAAAAwAAAAMAAAACMAAAAcAAAAJgAAADkAAAA9AAAALgAAADMAAAAv\n",
       "AAAANwAAAC0AAAAjAAAAOQAAACEAAAAYAAAAKQAAADQAAAAqAAAAMAAAABwAAABAAAAAKQAAABkA\n",
       "AAA/AAAASgAAAC8AAAApAAAARQAAADcAAAAjAAAAIQAAABwAAAAqAAAAHgAAADMAAAAUc3RjbwAA\n",
       "AAAAAAABAAAALAAAAGJ1ZHRhAAAAWm1ldGEAAAAAAAAAIWhkbHIAAAAAAAAAAG1kaXJhcHBsAAAA\n",
       "AAAAAAAAAAAALWlsc3QAAAAlqXRvbwAAAB1kYXRhAAAAAQAAAABMYXZmNTguMjkuMTAw\n",
       "\">\n",
       "  Your browser does not support the video tag.\n",
       "</video>"
      ],
      "text/plain": [
       "<IPython.core.display.HTML object>"
      ]
     },
     "execution_count": 34,
     "metadata": {},
     "output_type": "execute_result"
    },
    {
     "data": {
      "text/plain": [
       "<Figure size 1080x1080 with 0 Axes>"
      ]
     },
     "metadata": {},
     "output_type": "display_data"
    },
    {
     "data": {
      "image/png": "[encoded data removed]",
      "text/plain": [
       "<Figure size 432x288 with 1 Axes>"
      ]
     },
     "metadata": {
      "needs_background": "light"
     },
     "output_type": "display_data"
    }
   ],
   "source": [
    "rocket = RectRocket(600,340,5,0)\n",
    "target = Target(25,0.01,50,0.01,100,320)\n",
    "world = World(rocket,target)\n",
    "\n",
    "\n",
    "HTML(plot_images(world.run()).to_html5_video())"
   ]
  },
  {
   "cell_type": "code",
   "execution_count": 6,
   "metadata": {
    "colab": {
     "base_uri": "https://localhost:8080/",
     "height": 282
    },
    "colab_type": "code",
    "id": "oUw5vNPODea2",
    "outputId": "0d8a8fe4-1f89-4403-a210-fc29c4509eb7"
   },
   "outputs": [
    {
     "data": {
      "text/plain": [
       "[<matplotlib.lines.Line2D at 0x14451692c88>]"
      ]
     },
     "execution_count": 6,
     "metadata": {},
     "output_type": "execute_result"
    },
    {
     "data": {
      "image/png": "[encoded data removed]",
      "text/plain": [
       "<Figure size 432x288 with 1 Axes>"
      ]
     },
     "metadata": {
      "needs_background": "light"
     },
     "output_type": "display_data"
    }
   ],
   "source": [
    "plt.plot(world.distance)"
   ]
  },
  {
   "cell_type": "code",
   "execution_count": null,
   "metadata": {
    "colab": {},
    "colab_type": "code",
    "id": "wJRfpF5hDea5"
   },
   "outputs": [],
   "source": []
  },
  {
   "cell_type": "code",
   "execution_count": null,
   "metadata": {},
   "outputs": [],
   "source": []
  },
  {
   "cell_type": "code",
   "execution_count": null,
   "metadata": {},
   "outputs": [],
   "source": []
  }
 ],
 "metadata": {
  "colab": {
   "collapsed_sections": [],
   "name": "Lab6.ipynb",
   "provenance": []
  },
  "kernelspec": {
   "display_name": "Python 3",
   "language": "python",
   "name": "python3"
  },
  "language_info": {
   "codemirror_mode": {
    "name": "ipython",
    "version": 3
   },
   "file_extension": ".py",
   "mimetype": "text/x-python",
   "name": "python",
   "nbconvert_exporter": "python",
   "pygments_lexer": "ipython3",
   "version": "3.7.4"
  }
 },
 "nbformat": 4,
 "nbformat_minor": 1
}
