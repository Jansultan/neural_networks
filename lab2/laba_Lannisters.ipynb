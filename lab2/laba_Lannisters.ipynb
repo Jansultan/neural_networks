{
 "cells": [
  {
   "cell_type": "markdown",
   "metadata": {},
   "source": [
    "# Mathematical logic (cont.)\n",
    "## Tasks\n",
    "* Make the family tree of Lannisters and \n",
    "    * test imbreeding logic statements, where C(x,y) - x is the child of y and P(x,y) - x is the child of y \n",
    "    * test root logic statement\n",
    "    * make an interactive interface that manages the familty tree"
   ]
  },
  {
   "cell_type": "markdown",
   "metadata": {},
   "source": [
    "![title](logic_lannister_formula.png)"
   ]
  },
  {
   "cell_type": "markdown",
   "metadata": {},
   "source": [
    "![title](1367859445_1758140565.gif)"
   ]
  },
  {
   "cell_type": "code",
   "execution_count": 16,
   "metadata": {},
   "outputs": [],
   "source": [
    "###             |-->Genna(6) --> Cleas(7)\n",
    "###             |  \n",
    "###             |--> Gerion(5)\n",
    "###             |\n",
    "###             |--> Tyget(4)\n",
    "### Tytos(1)-->\n",
    "###             |--> Keynan(3)\n",
    "###             |\n",
    "###             |\n",
    "###             |\n",
    "###             |\n",
    "###             |\n",
    "###             |--> Tywin(2)  --> | Cersei(11) --> | Joffrey(14)\n",
    "###             |    Joanna(8) --> | Jaime(10)  --> | Myrcella(13)\n",
    "###             |                  | Tyrion(9)      | Tommen(12)\n",
    "###             |\n",
    "###             |"
   ]
  },
  {
   "cell_type": "code",
   "execution_count": 44,
   "metadata": {},
   "outputs": [
    {
     "name": "stdout",
     "output_type": "stream",
     "text": [
      "[()]\n"
     ]
    }
   ],
   "source": [
    "# logging.basicConfig(level=logging.INFO)\n",
    "# P - Parent, C - child\n",
    "from pyDatalog import pyDatalog\n",
    "import logging\n",
    "from pyDatalog import pyEngine\n",
    "pyEngine.Logging = False\n",
    "pyDatalog.create_terms('linkP, can_reachC, X,Y,Z, all_path')\n",
    "# Parent Tytos\n",
    "+linkP(1,2) #Child Tywin number 2\n",
    "+linkP(1,3) #Child Keynan number 3\n",
    "+linkP(1,4) #Child Tyget number 4\n",
    "+linkP(1,5) #Child Gerion number 5\n",
    "+linkP(1,6) #Child Genna number 6\n",
    "\n",
    "# Parent Genna\n",
    "+linkP(6,7) #Child Cleas number 7\n",
    "\n",
    "# Parent Tywin\n",
    "+linkP(2,9) #Child Tyaion number 9\n",
    "+linkP(2,10) #Child Jaime number 10\n",
    "+linkP(2,11) #Child Cersei number 11\n",
    "\n",
    "# Parent Joanna\n",
    "+linkP(8,9) #Child Tyaion number 9\n",
    "+linkP(8,10) #Child Jaime number 10\n",
    "+linkP(8,11) #Child Cersei number 11\n",
    "\n",
    "# Parent Cersei\n",
    "+linkP(11,12) #Child Tommen number 12\n",
    "+linkP(11,13) #Child Myrcella number 13\n",
    "+linkP(11,14) #Child Joffrey number 14\n",
    "\n",
    "# Parent Jaime\n",
    "+linkP(10,12) #Child Tommen number 12\n",
    "+linkP(10,13) #Child Myrcella number 13\n",
    "+linkP(10,14) #Child Joffrey number 14\n",
    "\n",
    "\n",
    "can_reachC(X, Y) <= linkP(Y, X) & (X != Y)\n",
    "linkP(X, Y) <= can_reachC(Y, X) & (X != Y)\n",
    "can_reachC(X, Y) <= can_reachC(X, Z) & can_reachC(Z, Y) & (X != Y)\n",
    "\n",
    "print(can_reachC(7,6))\n",
    "# print(can_reachC(10,7))"
   ]
  },
  {
   "cell_type": "code",
   "execution_count": 57,
   "metadata": {},
   "outputs": [
    {
     "name": "stdout",
     "output_type": "stream",
     "text": [
      "all path\n",
      "X  | Y \n",
      "---|---\n",
      "10 | 14\n",
      "10 | 13\n",
      "10 | 12\n",
      "11 | 14\n",
      "11 | 13\n",
      "11 | 12\n",
      "8  | 11\n",
      "8  | 10\n",
      "8  | 9 \n",
      "2  | 11\n",
      "2  | 10\n",
      "2  | 9 \n",
      "6  | 7 \n",
      "1  | 6 \n",
      "1  | 5 \n",
      "1  | 4 \n",
      "1  | 3 \n",
      "1  | 2 \n",
      "1  | 13\n",
      "1  | 14\n",
      "1  | 12\n",
      "1  | 9 \n",
      "1  | 11\n",
      "1  | 10\n",
      "1  | 7 \n",
      "2  | 14\n",
      "2  | 12\n",
      "2  | 13\n",
      "8  | 14\n",
      "8  | 12\n",
      "8  | 13\n"
     ]
    }
   ],
   "source": [
    "print(\"all path\")\n",
    "all_path(X,Y) <= all_path(X,Z) & linkP(Z,Y) & (X!=Y)\n",
    "all_path(X,Y) <= linkP(X,Y)\n",
    "print (all_path(X,Y))"
   ]
  },
  {
   "cell_type": "code",
   "execution_count": null,
   "metadata": {},
   "outputs": [],
   "source": []
  },
  {
   "cell_type": "code",
   "execution_count": null,
   "metadata": {},
   "outputs": [],
   "source": []
  },
  {
   "cell_type": "code",
   "execution_count": null,
   "metadata": {},
   "outputs": [],
   "source": []
  },
  {
   "cell_type": "code",
   "execution_count": null,
   "metadata": {},
   "outputs": [],
   "source": []
  }
 ],
 "metadata": {
  "kernelspec": {
   "display_name": "Python 3",
   "language": "python",
   "name": "python3"
  },
  "language_info": {
   "codemirror_mode": {
    "name": "ipython",
    "version": 3
   },
   "file_extension": ".py",
   "mimetype": "text/x-python",
   "name": "python",
   "nbconvert_exporter": "python",
   "pygments_lexer": "ipython3",
   "version": "3.7.4"
  }
 },
 "nbformat": 4,
 "nbformat_minor": 2
}
